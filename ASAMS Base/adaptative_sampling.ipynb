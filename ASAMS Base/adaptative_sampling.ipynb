{
 "cells": [
  {
   "cell_type": "code",
   "execution_count": 2,
   "metadata": {},
   "outputs": [],
   "source": [
    "from scipy.spatial import Voronoi,voronoi_plot_2d\n",
    "import numpy as np\n",
    "from joblib import dump, load\n",
    "import scipy.io\n",
    "from sklearn.neural_network import MLPRegressor\n",
    "from sklearn.svm import SVR\n",
    "from sklearn.ensemble import RandomForestRegressor\n",
    "from sklearn.linear_model import BayesianRidge, LinearRegression\n",
    "from sklearn.model_selection import GridSearchCV\n",
    "from joblib import dump, load\n",
    "import scipy.io\n",
    "import numpy as np\n",
    "from sklearn.metrics import r2_score\n",
    "from sklearn.metrics import mean_squared_error"
   ]
  },
  {
   "cell_type": "code",
   "execution_count": 3,
   "metadata": {},
   "outputs": [],
   "source": [
    "points = np.array([[0, 0], [0, 1], [0, 2], [1, 0], [1, 1], [1, 2],\n",
    "                   [2, 0], [2, 1], [2, 2]])"
   ]
  },
  {
   "cell_type": "code",
   "execution_count": 353,
   "metadata": {},
   "outputs": [
    {
     "name": "stderr",
     "output_type": "stream",
     "text": [
      "C:\\Users\\duch9\\Anaconda3\\lib\\site-packages\\sklearn\\base.py:318: UserWarning: Trying to unpickle estimator SVR from version 0.23.1 when using version 0.22.1. This might lead to breaking code or invalid results. Use at your own risk.\n",
      "  UserWarning)\n",
      "C:\\Users\\duch9\\Anaconda3\\lib\\site-packages\\sklearn\\base.py:318: UserWarning: Trying to unpickle estimator GridSearchCV from version 0.23.1 when using version 0.22.1. This might lead to breaking code or invalid results. Use at your own risk.\n",
      "  UserWarning)\n"
     ]
    }
   ],
   "source": [
    "modeloSVM = load('modeloSVM.joblib') \n"
   ]
  },
  {
   "cell_type": "code",
   "execution_count": 388,
   "metadata": {},
   "outputs": [],
   "source": [
    "jsonModelSVM=modeloSVM.cv_results_"
   ]
  },
  {
   "cell_type": "code",
   "execution_count": 153,
   "metadata": {},
   "outputs": [
    {
     "data": {
      "text/plain": [
       "SVR(C=0.1, cache_size=200, coef0=0.0, degree=3, epsilon=0.1, gamma=1,\n",
       "    kernel='linear', max_iter=-1, shrinking=True, tol=0.001, verbose=False)"
      ]
     },
     "execution_count": 153,
     "metadata": {},
     "output_type": "execute_result"
    }
   ],
   "source": [
    "modeloSVM.best_estimator_"
   ]
  },
  {
   "cell_type": "code",
   "execution_count": 73,
   "metadata": {},
   "outputs": [
    {
     "data": {
      "text/plain": [
       "['mean_fit_time',\n",
       " 'std_fit_time',\n",
       " 'mean_score_time',\n",
       " 'std_score_time',\n",
       " 'param_C',\n",
       " 'param_gamma',\n",
       " 'param_kernel',\n",
       " 'params',\n",
       " 'split0_test_score',\n",
       " 'split1_test_score',\n",
       " 'split2_test_score',\n",
       " 'split3_test_score',\n",
       " 'split4_test_score',\n",
       " 'mean_test_score',\n",
       " 'std_test_score',\n",
       " 'rank_test_score']"
      ]
     },
     "execution_count": 73,
     "metadata": {},
     "output_type": "execute_result"
    }
   ],
   "source": [
    "list(jsonModelSVM.keys())"
   ]
  },
  {
   "cell_type": "code",
   "execution_count": 75,
   "metadata": {},
   "outputs": [
    {
     "data": {
      "text/plain": [
       "60"
      ]
     },
     "execution_count": 75,
     "metadata": {},
     "output_type": "execute_result"
    }
   ],
   "source": [
    "len(jsonModelSVM[\"std_test_score\"])"
   ]
  },
  {
   "cell_type": "code",
   "execution_count": 146,
   "metadata": {},
   "outputs": [
    {
     "data": {
      "text/plain": [
       "-0.07055820741242444"
      ]
     },
     "execution_count": 146,
     "metadata": {},
     "output_type": "execute_result"
    }
   ],
   "source": [
    "modeloSVM.best_score_\n",
    "\n"
   ]
  },
  {
   "cell_type": "code",
   "execution_count": 150,
   "metadata": {},
   "outputs": [],
   "source": [
    "def stopCondition(modelList,TargetScore):\n",
    "    performance = list()\n",
    "    for model in modelList:\n",
    "        score=model.best_score_\n",
    "        performance.append(score)\n",
    "    BestModel=np.array(performance).argmax()\n",
    "    if performance[BestModel]>TargetScore:\n",
    "        return modelList[BestModel]\n",
    "    else:\n",
    "        return False\n",
    "    \n",
    "    "
   ]
  },
  {
   "cell_type": "code",
   "execution_count": 152,
   "metadata": {},
   "outputs": [
    {
     "name": "stdout",
     "output_type": "stream",
     "text": [
      "-0.07055820741242444\n"
     ]
    },
    {
     "data": {
      "text/plain": [
       "GridSearchCV(cv=None, error_score=nan,\n",
       "             estimator=SVR(C=1.0, cache_size=200, coef0=0.0, degree=3,\n",
       "                           epsilon=0.1, gamma='scale', kernel='rbf',\n",
       "                           max_iter=-1, shrinking=True, tol=0.001,\n",
       "                           verbose=False),\n",
       "             iid='deprecated', n_jobs=None,\n",
       "             param_grid={'C': [0.01, 0.1, 1, 10, 100],\n",
       "                         'gamma': [1, 10, 100, 1000, 10000, 'auto'],\n",
       "                         'kernel': ['linear', 'rbf']},\n",
       "             pre_dispatch='2*n_jobs', refit=True, return_train_score=False,\n",
       "             scoring=None, verbose=3)"
      ]
     },
     "execution_count": 152,
     "metadata": {},
     "output_type": "execute_result"
    }
   ],
   "source": [
    "stopCondition([modeloSVM,modeloSVM],-.1)"
   ]
  },
  {
   "cell_type": "code",
   "execution_count": 80,
   "metadata": {},
   "outputs": [],
   "source": [
    "mdlScores=jsonModelSVM[\"std_test_score\"]"
   ]
  },
  {
   "cell_type": "code",
   "execution_count": 82,
   "metadata": {},
   "outputs": [
    {
     "data": {
      "text/plain": [
       "0.30965623165272754"
      ]
     },
     "execution_count": 82,
     "metadata": {},
     "output_type": "execute_result"
    }
   ],
   "source": [
    "np.mean(mdlScores)"
   ]
  },
  {
   "cell_type": "code",
   "execution_count": 86,
   "metadata": {},
   "outputs": [
    {
     "data": {
      "text/plain": [
       "[{'C': 0.01, 'gamma': 1, 'kernel': 'linear'},\n",
       " {'C': 0.01, 'gamma': 1, 'kernel': 'rbf'},\n",
       " {'C': 0.01, 'gamma': 10, 'kernel': 'linear'},\n",
       " {'C': 0.01, 'gamma': 10, 'kernel': 'rbf'},\n",
       " {'C': 0.01, 'gamma': 100, 'kernel': 'linear'},\n",
       " {'C': 0.01, 'gamma': 100, 'kernel': 'rbf'},\n",
       " {'C': 0.01, 'gamma': 1000, 'kernel': 'linear'},\n",
       " {'C': 0.01, 'gamma': 1000, 'kernel': 'rbf'},\n",
       " {'C': 0.01, 'gamma': 10000, 'kernel': 'linear'},\n",
       " {'C': 0.01, 'gamma': 10000, 'kernel': 'rbf'},\n",
       " {'C': 0.01, 'gamma': 'auto', 'kernel': 'linear'},\n",
       " {'C': 0.01, 'gamma': 'auto', 'kernel': 'rbf'},\n",
       " {'C': 0.1, 'gamma': 1, 'kernel': 'linear'},\n",
       " {'C': 0.1, 'gamma': 1, 'kernel': 'rbf'},\n",
       " {'C': 0.1, 'gamma': 10, 'kernel': 'linear'},\n",
       " {'C': 0.1, 'gamma': 10, 'kernel': 'rbf'},\n",
       " {'C': 0.1, 'gamma': 100, 'kernel': 'linear'},\n",
       " {'C': 0.1, 'gamma': 100, 'kernel': 'rbf'},\n",
       " {'C': 0.1, 'gamma': 1000, 'kernel': 'linear'},\n",
       " {'C': 0.1, 'gamma': 1000, 'kernel': 'rbf'},\n",
       " {'C': 0.1, 'gamma': 10000, 'kernel': 'linear'},\n",
       " {'C': 0.1, 'gamma': 10000, 'kernel': 'rbf'},\n",
       " {'C': 0.1, 'gamma': 'auto', 'kernel': 'linear'},\n",
       " {'C': 0.1, 'gamma': 'auto', 'kernel': 'rbf'},\n",
       " {'C': 1, 'gamma': 1, 'kernel': 'linear'},\n",
       " {'C': 1, 'gamma': 1, 'kernel': 'rbf'},\n",
       " {'C': 1, 'gamma': 10, 'kernel': 'linear'},\n",
       " {'C': 1, 'gamma': 10, 'kernel': 'rbf'},\n",
       " {'C': 1, 'gamma': 100, 'kernel': 'linear'},\n",
       " {'C': 1, 'gamma': 100, 'kernel': 'rbf'}]"
      ]
     },
     "execution_count": 86,
     "metadata": {},
     "output_type": "execute_result"
    }
   ],
   "source": [
    "jsonModelSVM['params'][:30]"
   ]
  },
  {
   "cell_type": "code",
   "execution_count": 81,
   "metadata": {},
   "outputs": [
    {
     "data": {
      "text/plain": [
       "array([57, 55, 53, 45, 43, 41, 33, 31, 29, 21, 19, 17,  9,  7,  5,  3,  1,\n",
       "       11, 15, 13, 23, 27, 25, 35, 39, 37, 47, 51, 49, 59,  0,  2,  4,  6,\n",
       "        8, 10, 12, 22, 14, 20, 16, 18, 30, 34, 28, 32, 24, 26, 58, 56, 48,\n",
       "       50, 54, 52, 40, 36, 46, 38, 42, 44], dtype=int64)"
      ]
     },
     "execution_count": 81,
     "metadata": {},
     "output_type": "execute_result"
    }
   ],
   "source": [
    "np.argsort(mdlScores)\n",
    "\n"
   ]
  },
  {
   "cell_type": "code",
   "execution_count": 85,
   "metadata": {},
   "outputs": [
    {
     "data": {
      "text/plain": [
       "30"
      ]
     },
     "execution_count": 85,
     "metadata": {},
     "output_type": "execute_result"
    }
   ],
   "source": [
    "round(len(mdlScores)*0.5)"
   ]
  },
  {
   "cell_type": "code",
   "execution_count": null,
   "metadata": {},
   "outputs": [],
   "source": [
    "def modelReducedFiltering(modelList,keepRate):\n",
    "    from sklearn.neural_network import MLPRegressor\n",
    "    from sklearn.svm import SVR\n",
    "    from sklearn.ensemble import RandomForestRegressor\n",
    "    from sklearn.linear_model import BayesianRidge, LinearRegression\n",
    "    from sklearn.model_selection import GridSearchCV\n",
    "    from joblib import dump, load\n",
    "    import scipy.io\n",
    "    import numpy as np\n",
    "    from sklearn.metrics import r2_score\n",
    "    from sklearn.metrics import mean_squared_error\n",
    "    from scipy.spatial import Voronoi,voronoi_plot_2d\n",
    "    import numpy as np\n",
    "    gridList=list()\n",
    "    for model in modelList:\n",
    "        parOut=list()\n",
    "        jsonModelSVM=model.cv_results_\n",
    "        mdlScores=jsonModelSVM[\"std_test_score\"]\n",
    "        mdlSOrder=np.argsort(mdlScores)\n",
    "        NumMdl=round(len(mdlScores)*keepRate)\n",
    "        SubmdlScores=mdlSOrder[:NumMdl]\n",
    "        for case in SubmdlScores:\n",
    "            parOut.append(jsonModelSVM['params'][case])\n",
    "        gridList.append(parOut)\n",
    "\n",
    "    return gridList"
   ]
  },
  {
   "cell_type": "code",
   "execution_count": 166,
   "metadata": {},
   "outputs": [],
   "source": [
    "def modelReducedFiltering(modelList,keepRate):\n",
    "    gridList=list()\n",
    "    for model in modelList:\n",
    "        parOut=dict()\n",
    "        jsonModelSVM=model.cv_results_\n",
    "        for key in list(jsonModelSVM['params'][0].keys()):\n",
    "            parOut[key]=list()\n",
    "        mdlScores=jsonModelSVM[\"std_test_score\"]\n",
    "        mdlSOrder=np.argsort(mdlScores)\n",
    "        NumMdl=round(len(mdlScores)*keepRate)\n",
    "        SubmdlScores=mdlSOrder[:NumMdl]\n",
    "        for case in SubmdlScores:\n",
    "            dictpar=jsonModelSVM['params'][case]\n",
    "            for key in list(dictpar.keys()):\n",
    "                parOut[key].append(dictpar[key])\n",
    "        for key in list(parOut.keys()):     \n",
    "            parOut[key]=list(set(parOut[key]))\n",
    "        gridList.append(parOut)\n",
    "    return gridList\n",
    "        \n",
    "        "
   ]
  },
  {
   "cell_type": "code",
   "execution_count": 167,
   "metadata": {},
   "outputs": [],
   "source": [
    "rempar=modelReducedFiltering([modeloSVM,modeloSVM],.2)"
   ]
  },
  {
   "cell_type": "code",
   "execution_count": 168,
   "metadata": {},
   "outputs": [
    {
     "data": {
      "text/plain": [
       "[{'C': [0.1, 1, 10, 100], 'gamma': [10000, 1000, 100], 'kernel': ['rbf']},\n",
       " {'C': [0.1, 1, 10, 100], 'gamma': [10000, 1000, 100], 'kernel': ['rbf']}]"
      ]
     },
     "execution_count": 168,
     "metadata": {},
     "output_type": "execute_result"
    }
   ],
   "source": [
    "rempar\n"
   ]
  },
  {
   "cell_type": "code",
   "execution_count": 157,
   "metadata": {},
   "outputs": [],
   "source": [
    "def ModelReduceSelection(inputs_train,outputs_train,ModelList,ParamGridList):\n",
    "    outModels=list()\n",
    "    for index,model in enumerate(ModelList):\n",
    "        modelB=model.best_estimator_\n",
    "        param_grid = ParamGridList[index]\n",
    "        print()\n",
    "        grid = GridSearchCV(modelB,param_grid,refit=True,verbose=1)\n",
    "        grid.fit(inputs_train,outputs_train)\n",
    "        outModels.append(grid)\n",
    "    return outModels \n",
    "    "
   ]
  },
  {
   "cell_type": "code",
   "execution_count": 158,
   "metadata": {},
   "outputs": [],
   "source": [
    "mat = scipy.io.loadmat('experimentosMC.mat') \n"
   ]
  },
  {
   "cell_type": "code",
   "execution_count": 169,
   "metadata": {},
   "outputs": [
    {
     "name": "stdout",
     "output_type": "stream",
     "text": [
      "Fitting 5 folds for each of 12 candidates, totalling 60 fits\n",
      "Fitting 5 folds for each of 12 candidates, totalling 60 fits\n"
     ]
    },
    {
     "name": "stderr",
     "output_type": "stream",
     "text": [
      "[Parallel(n_jobs=1)]: Using backend SequentialBackend with 1 concurrent workers.\n",
      "[Parallel(n_jobs=1)]: Done  60 out of  60 | elapsed:    0.0s finished\n",
      "[Parallel(n_jobs=1)]: Using backend SequentialBackend with 1 concurrent workers.\n",
      "[Parallel(n_jobs=1)]: Done  60 out of  60 | elapsed:    0.0s finished\n"
     ]
    },
    {
     "data": {
      "text/plain": [
       "[GridSearchCV(cv=None, error_score=nan,\n",
       "              estimator=SVR(C=0.1, cache_size=200, coef0=0.0, degree=3,\n",
       "                            epsilon=0.1, gamma=1, kernel='linear', max_iter=-1,\n",
       "                            shrinking=True, tol=0.001, verbose=False),\n",
       "              iid='deprecated', n_jobs=None,\n",
       "              param_grid={'C': [0.1, 1, 10, 100], 'gamma': [10000, 1000, 100],\n",
       "                          'kernel': ['rbf']},\n",
       "              pre_dispatch='2*n_jobs', refit=True, return_train_score=False,\n",
       "              scoring=None, verbose=1), GridSearchCV(cv=None, error_score=nan,\n",
       "              estimator=SVR(C=0.1, cache_size=200, coef0=0.0, degree=3,\n",
       "                            epsilon=0.1, gamma=1, kernel='linear', max_iter=-1,\n",
       "                            shrinking=True, tol=0.001, verbose=False),\n",
       "              iid='deprecated', n_jobs=None,\n",
       "              param_grid={'C': [0.1, 1, 10, 100], 'gamma': [10000, 1000, 100],\n",
       "                          'kernel': ['rbf']},\n",
       "              pre_dispatch='2*n_jobs', refit=True, return_train_score=False,\n",
       "              scoring=None, verbose=1)]"
      ]
     },
     "execution_count": 169,
     "metadata": {},
     "output_type": "execute_result"
    }
   ],
   "source": [
    "ModelReduceSelection( mat['Experiments'],mat['Expout'].reshape(32),[modeloSVM,modeloSVM],rempar)"
   ]
  },
  {
   "cell_type": "code",
   "execution_count": 76,
   "metadata": {},
   "outputs": [
    {
     "data": {
      "text/plain": [
       "60"
      ]
     },
     "execution_count": 76,
     "metadata": {},
     "output_type": "execute_result"
    }
   ],
   "source": [
    "len(jsonModelSVM[\"params\"])"
   ]
  },
  {
   "cell_type": "code",
   "execution_count": 5,
   "metadata": {},
   "outputs": [],
   "source": [
    "ModeloSVM=modeloSVM.best_estimator_"
   ]
  },
  {
   "cell_type": "code",
   "execution_count": 26,
   "metadata": {},
   "outputs": [],
   "source": [
    "def AutoSB( inputs_train,outputs_train):\n",
    "    # firstmodel\n",
    "    model_SVM=SVR()\n",
    "    param_grid_SVM = { 'kernel':['linear','rbf'],\n",
    "                  'C':[0.01,0.1,1,10,100],\n",
    "                  'gamma':[1,10,100,1000,10000,'auto']}\n",
    "    gridSVM = GridSearchCV(model_SVM,param_grid_SVM,refit=True,verbose=3,cv=\"RidgeCV\")\n",
    "    gridSVM.fit(inputs_train,outputs_train)\n",
    "    print(gridSVM.best_params_)\n",
    "    print(gridSVM.best_score_)\n",
    "          \n",
    "    return  gridSVM\n",
    "    \n",
    "    \n",
    "    "
   ]
  },
  {
   "cell_type": "code",
   "execution_count": 292,
   "metadata": {},
   "outputs": [],
   "source": [
    "mats = scipy.io.loadmat('magnetCircuittrain.mat') \n"
   ]
  },
  {
   "cell_type": "code",
   "execution_count": 222,
   "metadata": {},
   "outputs": [],
   "source": [
    "mat = scipy.io.loadmat('nonlinealOscillatortrain.mat') "
   ]
  },
  {
   "cell_type": "code",
   "execution_count": 29,
   "metadata": {},
   "outputs": [],
   "source": [
    " from sklearn.linear_model import RidgeCV"
   ]
  },
  {
   "cell_type": "code",
   "execution_count": 223,
   "metadata": {},
   "outputs": [
    {
     "ename": "KeyError",
     "evalue": "'Experiments'",
     "output_type": "error",
     "traceback": [
      "\u001b[1;31m---------------------------------------------------------------------------\u001b[0m",
      "\u001b[1;31mKeyError\u001b[0m                                  Traceback (most recent call last)",
      "\u001b[1;32m<ipython-input-223-c5f1151b7ccc>\u001b[0m in \u001b[0;36m<module>\u001b[1;34m\u001b[0m\n\u001b[0;32m      1\u001b[0m \u001b[1;32mfrom\u001b[0m \u001b[0msklearn\u001b[0m\u001b[1;33m.\u001b[0m\u001b[0mmodel_selection\u001b[0m \u001b[1;32mimport\u001b[0m \u001b[0mcross_val_score\u001b[0m\u001b[1;33m\u001b[0m\u001b[1;33m\u001b[0m\u001b[0m\n\u001b[0;32m      2\u001b[0m \u001b[1;33m\u001b[0m\u001b[0m\n\u001b[1;32m----> 3\u001b[1;33m \u001b[0mscores\u001b[0m \u001b[1;33m=\u001b[0m \u001b[0mcross_val_score\u001b[0m\u001b[1;33m(\u001b[0m\u001b[0mModeloSVM\u001b[0m\u001b[1;33m,\u001b[0m \u001b[0mmat\u001b[0m\u001b[1;33m[\u001b[0m\u001b[1;34m'Experiments'\u001b[0m\u001b[1;33m]\u001b[0m\u001b[1;33m,\u001b[0m\u001b[0mmat\u001b[0m\u001b[1;33m[\u001b[0m\u001b[1;34m'Expout'\u001b[0m\u001b[1;33m]\u001b[0m\u001b[1;33m.\u001b[0m\u001b[0mreshape\u001b[0m\u001b[1;33m(\u001b[0m\u001b[1;36m32\u001b[0m\u001b[1;33m)\u001b[0m\u001b[1;33m,\u001b[0m \u001b[0mcv\u001b[0m\u001b[1;33m=\u001b[0m\u001b[1;36m32\u001b[0m\u001b[1;33m,\u001b[0m\u001b[0mscoring\u001b[0m\u001b[1;33m=\u001b[0m\u001b[1;34m'neg_mean_gamma_deviance'\u001b[0m\u001b[1;33m)\u001b[0m\u001b[1;33m\u001b[0m\u001b[1;33m\u001b[0m\u001b[0m\n\u001b[0m",
      "\u001b[1;31mKeyError\u001b[0m: 'Experiments'"
     ]
    }
   ],
   "source": [
    "from sklearn.model_selection import cross_val_score\n",
    "\n",
    "scores = cross_val_score(ModeloSVM, mat['Experiments'],mat['Expout'].reshape(32), cv=32,scoring='neg_mean_gamma_deviance')"
   ]
  },
  {
   "cell_type": "code",
   "execution_count": 33,
   "metadata": {},
   "outputs": [
    {
     "data": {
      "text/plain": [
       "array([ -1.42815413,  -2.98939275,  -1.42815428,  -2.98939193,\n",
       "        -0.20508715,  -1.49765169,  -0.20508199,  -1.49765078,\n",
       "        -0.43027634,  -1.43340844,  -0.43027643,  -1.43340773,\n",
       "        -1.43271339,  -0.07479404,  -1.43271342,  -0.07479382,\n",
       "        -1.23838901,  -0.62831877,  -1.23838814,  -0.62831822,\n",
       "        -3.31303412, -17.58295429,  -3.3129932 , -17.57109107,\n",
       "        -3.86549477,  -0.0995315 ,  -3.86549345,  -0.09953131,\n",
       "        -0.14241087,  -3.90551125,  -0.14241086,  -3.90550947])"
      ]
     },
     "execution_count": 33,
     "metadata": {},
     "output_type": "execute_result"
    }
   ],
   "source": [
    "scores"
   ]
  },
  {
   "cell_type": "code",
   "execution_count": 34,
   "metadata": {},
   "outputs": [
    {
     "data": {
      "text/plain": [
       "array([21, 23, 29, 31, 24, 26, 20, 22,  1,  3,  5,  7,  9, 11, 14, 12,  2,\n",
       "        0, 16, 18, 17, 19, 10,  8,  4,  6, 28, 30, 25, 27, 13, 15],\n",
       "      dtype=int64)"
      ]
     },
     "execution_count": 34,
     "metadata": {},
     "output_type": "execute_result"
    }
   ],
   "source": [
    "np.argsort(scores)"
   ]
  },
  {
   "cell_type": "code",
   "execution_count": 277,
   "metadata": {},
   "outputs": [],
   "source": [
    "from scipy.spatial import Voronoi, voronoi_plot_2d,SphericalVoronoi\n",
    "vor = Voronoi(mat['Experimments'],qhull_options=\"QJ\")\n",
    "vor2 = Voronoi(mats['Experimments'],qhull_options=\"QJ\")"
   ]
  },
  {
   "cell_type": "code",
   "execution_count": 278,
   "metadata": {},
   "outputs": [
    {
     "ename": "QhullError",
     "evalue": "QH6239 Qhull precision error: initial Delaunay input sites are cocircular or cospherical.  Use option 'Qz' for the Delaunay triangulation or Voronoi diagram of cocircular/cospherical points; it adds a point \"at infinity\".  Alternatively use option 'QJ' to joggle the input.  Use option 'Qs' to search all points for the initial simplex.\n\ninput sites with last coordinate projected to a paraboloid\n- p63(v8):   1.5  0.15   1.5   0.6   1.5   1.5   9.4\n- p32(v7):   0.5  0.05   0.5   0.4   0.5   1.5   3.2\n- p16(v6):   0.5  0.05   0.5   0.4   1.5   0.5   3.2\n- p8(v5):   0.5  0.05   0.5   0.6   0.5   0.5   1.4\n- p4(v4):   0.5  0.05   1.5   0.4   0.5   0.5   3.2\n- p2(v3):   0.5  0.15   0.5   0.4   0.5   0.5   1.2\n- p1(v2):   1.5  0.05   0.5   0.4   0.5   0.5   3.2\n- p0(v1):   0.5  0.05   0.5   0.4   0.5   0.5   1.2\n\nWhile executing:  | qhull v Qa\nOptions selected for Qhull 2019.1.r 2019/06/21:\n  run-id 1668169285  voronoi  Qallow-short  Qxact-merge  _zero-centrum\n  Q3-no-merge-vertices-dim-high  Pgood  _max-width 8.2  Error-roundoff 2.7e-14\n  _one-merge 4.1e-13  _near-inside 2.1e-12  Visible-distance 1.6e-13\n  U-max-coplanar 1.6e-13  Width-outside 3.3e-13  _wide-facet 9.9e-13\n  _maxoutside 4.4e-13\n",
     "output_type": "error",
     "traceback": [
      "\u001b[1;31m---------------------------------------------------------------------------\u001b[0m",
      "\u001b[1;31mQhullError\u001b[0m                                Traceback (most recent call last)",
      "\u001b[1;32m<ipython-input-278-e35a7aba92e6>\u001b[0m in \u001b[0;36m<module>\u001b[1;34m\u001b[0m\n\u001b[1;32m----> 1\u001b[1;33m \u001b[0mvor1\u001b[0m \u001b[1;33m=\u001b[0m \u001b[0mVoronoi\u001b[0m\u001b[1;33m(\u001b[0m\u001b[0mmat\u001b[0m\u001b[1;33m[\u001b[0m\u001b[1;34m'Experimments'\u001b[0m\u001b[1;33m]\u001b[0m\u001b[1;33m,\u001b[0m\u001b[0mqhull_options\u001b[0m\u001b[1;33m=\u001b[0m\u001b[1;34m\"Qa\"\u001b[0m\u001b[1;33m)\u001b[0m\u001b[1;33m\u001b[0m\u001b[1;33m\u001b[0m\u001b[0m\n\u001b[0m",
      "\u001b[1;32mqhull.pyx\u001b[0m in \u001b[0;36mscipy.spatial.qhull.Voronoi.__init__\u001b[1;34m()\u001b[0m\n",
      "\u001b[1;32mqhull.pyx\u001b[0m in \u001b[0;36mscipy.spatial.qhull._Qhull.__init__\u001b[1;34m()\u001b[0m\n",
      "\u001b[1;31mQhullError\u001b[0m: QH6239 Qhull precision error: initial Delaunay input sites are cocircular or cospherical.  Use option 'Qz' for the Delaunay triangulation or Voronoi diagram of cocircular/cospherical points; it adds a point \"at infinity\".  Alternatively use option 'QJ' to joggle the input.  Use option 'Qs' to search all points for the initial simplex.\n\ninput sites with last coordinate projected to a paraboloid\n- p63(v8):   1.5  0.15   1.5   0.6   1.5   1.5   9.4\n- p32(v7):   0.5  0.05   0.5   0.4   0.5   1.5   3.2\n- p16(v6):   0.5  0.05   0.5   0.4   1.5   0.5   3.2\n- p8(v5):   0.5  0.05   0.5   0.6   0.5   0.5   1.4\n- p4(v4):   0.5  0.05   1.5   0.4   0.5   0.5   3.2\n- p2(v3):   0.5  0.15   0.5   0.4   0.5   0.5   1.2\n- p1(v2):   1.5  0.05   0.5   0.4   0.5   0.5   3.2\n- p0(v1):   0.5  0.05   0.5   0.4   0.5   0.5   1.2\n\nWhile executing:  | qhull v Qa\nOptions selected for Qhull 2019.1.r 2019/06/21:\n  run-id 1668169285  voronoi  Qallow-short  Qxact-merge  _zero-centrum\n  Q3-no-merge-vertices-dim-high  Pgood  _max-width 8.2  Error-roundoff 2.7e-14\n  _one-merge 4.1e-13  _near-inside 2.1e-12  Visible-distance 1.6e-13\n  U-max-coplanar 1.6e-13  Width-outside 3.3e-13  _wide-facet 9.9e-13\n  _maxoutside 4.4e-13\n"
     ]
    }
   ],
   "source": [
    "vor1 = Voronoi(mat['Experimments'],qhull_options=\"Qa\")\n"
   ]
  },
  {
   "cell_type": "code",
   "execution_count": 279,
   "metadata": {},
   "outputs": [],
   "source": [
    "minlimit=mat['Experimments'].min(axis=0)\n",
    "maxlimit=mat['Experimments'].max(axis=0)"
   ]
  },
  {
   "cell_type": "code",
   "execution_count": 280,
   "metadata": {},
   "outputs": [],
   "source": [
    "usefulVertex=list()\n",
    "for vertex in vor.vertices:\n",
    "    flag=True\n",
    "    for index,parm in enumerate(vertex):\n",
    "        if parm<minlimit[index] or parm>maxlimit[index]:\n",
    "            flag=False\n",
    "    if flag:\n",
    "        usefulVertex.append(vertex)\n",
    "            "
   ]
  },
  {
   "cell_type": "code",
   "execution_count": 281,
   "metadata": {},
   "outputs": [
    {
     "data": {
      "text/plain": [
       "1124"
      ]
     },
     "execution_count": 281,
     "metadata": {},
     "output_type": "execute_result"
    }
   ],
   "source": [
    "len(usefulVertex)"
   ]
  },
  {
   "cell_type": "code",
   "execution_count": 282,
   "metadata": {},
   "outputs": [
    {
     "data": {
      "text/plain": [
       "(8468, 6)"
      ]
     },
     "execution_count": 282,
     "metadata": {},
     "output_type": "execute_result"
    }
   ],
   "source": [
    "vor.vertices.shape"
   ]
  },
  {
   "cell_type": "code",
   "execution_count": 283,
   "metadata": {},
   "outputs": [],
   "source": [
    "minlimit=mats['Experimments'].min(axis=0)\n",
    "maxlimit=mats['Experimments'].max(axis=0)"
   ]
  },
  {
   "cell_type": "code",
   "execution_count": 284,
   "metadata": {},
   "outputs": [],
   "source": [
    "usefulVertex=list()\n",
    "for vertex in vor2.vertices:\n",
    "    flag=True\n",
    "    for index,parm in enumerate(vertex):\n",
    "        if parm<minlimit[index] or parm>maxlimit[index]:\n",
    "            flag=False\n",
    "    if flag:\n",
    "        usefulVertex.append(vertex)\n",
    "            "
   ]
  },
  {
   "cell_type": "code",
   "execution_count": 285,
   "metadata": {},
   "outputs": [
    {
     "data": {
      "text/plain": [
       "11"
      ]
     },
     "execution_count": 285,
     "metadata": {},
     "output_type": "execute_result"
    }
   ],
   "source": [
    "len(usefulVertex)"
   ]
  },
  {
   "cell_type": "code",
   "execution_count": 286,
   "metadata": {},
   "outputs": [
    {
     "data": {
      "text/plain": [
       "(2917, 7)"
      ]
     },
     "execution_count": 286,
     "metadata": {},
     "output_type": "execute_result"
    }
   ],
   "source": [
    "vor2.vertices.shape"
   ]
  },
  {
   "cell_type": "code",
   "execution_count": 254,
   "metadata": {},
   "outputs": [
    {
     "ename": "ValueError",
     "evalue": "Radius inconsistent with generators.",
     "output_type": "error",
     "traceback": [
      "\u001b[1;31m---------------------------------------------------------------------------\u001b[0m",
      "\u001b[1;31mValueError\u001b[0m                                Traceback (most recent call last)",
      "\u001b[1;32m<ipython-input-254-315df7dee20e>\u001b[0m in \u001b[0;36m<module>\u001b[1;34m\u001b[0m\n\u001b[1;32m----> 1\u001b[1;33m \u001b[0mvorspe\u001b[0m\u001b[1;33m=\u001b[0m\u001b[0mSphericalVoronoi\u001b[0m\u001b[1;33m(\u001b[0m\u001b[0mmat\u001b[0m\u001b[1;33m[\u001b[0m\u001b[1;34m'Experimments'\u001b[0m\u001b[1;33m]\u001b[0m\u001b[1;33m,\u001b[0m\u001b[0mradius\u001b[0m\u001b[1;33m=\u001b[0m\u001b[1;36m1\u001b[0m\u001b[1;33m)\u001b[0m\u001b[1;33m\u001b[0m\u001b[1;33m\u001b[0m\u001b[0m\n\u001b[0m",
      "\u001b[1;32m~\\Anaconda3\\lib\\site-packages\\scipy\\spatial\\_spherical_voronoi.py\u001b[0m in \u001b[0;36m__init__\u001b[1;34m(self, points, radius, center, threshold)\u001b[0m\n\u001b[0;32m    160\u001b[0m         \u001b[0mmax_discrepancy\u001b[0m \u001b[1;33m=\u001b[0m \u001b[0mnp\u001b[0m\u001b[1;33m.\u001b[0m\u001b[0mabs\u001b[0m\u001b[1;33m(\u001b[0m\u001b[0mradii\u001b[0m \u001b[1;33m-\u001b[0m \u001b[0mself\u001b[0m\u001b[1;33m.\u001b[0m\u001b[0mradius\u001b[0m\u001b[1;33m)\u001b[0m\u001b[1;33m.\u001b[0m\u001b[0mmax\u001b[0m\u001b[1;33m(\u001b[0m\u001b[1;33m)\u001b[0m\u001b[1;33m\u001b[0m\u001b[1;33m\u001b[0m\u001b[0m\n\u001b[0;32m    161\u001b[0m         \u001b[1;32mif\u001b[0m \u001b[0mmax_discrepancy\u001b[0m \u001b[1;33m>=\u001b[0m \u001b[0mself\u001b[0m\u001b[1;33m.\u001b[0m\u001b[0mthreshold\u001b[0m \u001b[1;33m*\u001b[0m \u001b[0mself\u001b[0m\u001b[1;33m.\u001b[0m\u001b[0mradius\u001b[0m\u001b[1;33m:\u001b[0m\u001b[1;33m\u001b[0m\u001b[1;33m\u001b[0m\u001b[0m\n\u001b[1;32m--> 162\u001b[1;33m             \u001b[1;32mraise\u001b[0m \u001b[0mValueError\u001b[0m\u001b[1;33m(\u001b[0m\u001b[1;34m\"Radius inconsistent with generators.\"\u001b[0m\u001b[1;33m)\u001b[0m\u001b[1;33m\u001b[0m\u001b[1;33m\u001b[0m\u001b[0m\n\u001b[0m\u001b[0;32m    163\u001b[0m         \u001b[0mself\u001b[0m\u001b[1;33m.\u001b[0m\u001b[0mvertices\u001b[0m \u001b[1;33m=\u001b[0m \u001b[1;32mNone\u001b[0m\u001b[1;33m\u001b[0m\u001b[1;33m\u001b[0m\u001b[0m\n\u001b[0;32m    164\u001b[0m         \u001b[0mself\u001b[0m\u001b[1;33m.\u001b[0m\u001b[0mregions\u001b[0m \u001b[1;33m=\u001b[0m \u001b[1;32mNone\u001b[0m\u001b[1;33m\u001b[0m\u001b[1;33m\u001b[0m\u001b[0m\n",
      "\u001b[1;31mValueError\u001b[0m: Radius inconsistent with generators."
     ]
    }
   ],
   "source": [
    "vorspe=SphericalVoronoi(mat['Experimments'],radius=1)\n"
   ]
  },
  {
   "cell_type": "code",
   "execution_count": null,
   "metadata": {},
   "outputs": [],
   "source": [
    "for vertex in vertices.shape"
   ]
  },
  {
   "cell_type": "code",
   "execution_count": 41,
   "metadata": {},
   "outputs": [
    {
     "data": {
      "text/plain": [
       "[-1,\n",
       " 0,\n",
       " 1,\n",
       " 2,\n",
       " 18,\n",
       " 19,\n",
       " 20,\n",
       " 29,\n",
       " 30,\n",
       " 31,\n",
       " 32,\n",
       " 35,\n",
       " 37,\n",
       " 38,\n",
       " 39,\n",
       " 40,\n",
       " 41,\n",
       " 42,\n",
       " 43,\n",
       " 44,\n",
       " 45,\n",
       " 46,\n",
       " 47,\n",
       " 48,\n",
       " 49,\n",
       " 50,\n",
       " 51,\n",
       " 52,\n",
       " 58,\n",
       " 59,\n",
       " 60,\n",
       " 61,\n",
       " 62,\n",
       " 63,\n",
       " 64,\n",
       " 65,\n",
       " 66,\n",
       " 67,\n",
       " 76,\n",
       " 77,\n",
       " 78,\n",
       " 79,\n",
       " 80,\n",
       " 85,\n",
       " 112,\n",
       " 113,\n",
       " 114,\n",
       " 115,\n",
       " 116,\n",
       " 117,\n",
       " 118,\n",
       " 119,\n",
       " 123,\n",
       " 126,\n",
       " 127,\n",
       " 153,\n",
       " 154,\n",
       " 155,\n",
       " 156,\n",
       " 159,\n",
       " 160,\n",
       " 161,\n",
       " 162,\n",
       " 163,\n",
       " 164,\n",
       " 165,\n",
       " 166,\n",
       " 167,\n",
       " 168,\n",
       " 169,\n",
       " 196,\n",
       " 212,\n",
       " 213,\n",
       " 214,\n",
       " 215,\n",
       " 216,\n",
       " 217,\n",
       " 229,\n",
       " 230,\n",
       " 231,\n",
       " 238,\n",
       " 240,\n",
       " 308,\n",
       " 309,\n",
       " 310,\n",
       " 314,\n",
       " 315,\n",
       " 316,\n",
       " 317,\n",
       " 353,\n",
       " 354,\n",
       " 360,\n",
       " 362,\n",
       " 374,\n",
       " 389,\n",
       " 391,\n",
       " 393,\n",
       " 394,\n",
       " 395,\n",
       " 396,\n",
       " 397,\n",
       " 398,\n",
       " 399,\n",
       " 401,\n",
       " 402,\n",
       " 403,\n",
       " 404,\n",
       " 405,\n",
       " 406,\n",
       " 408,\n",
       " 409,\n",
       " 410,\n",
       " 416,\n",
       " 417,\n",
       " 418,\n",
       " 419,\n",
       " 420,\n",
       " 424,\n",
       " 426,\n",
       " 427,\n",
       " 429,\n",
       " 430,\n",
       " 432,\n",
       " 433,\n",
       " 434,\n",
       " 436,\n",
       " 437,\n",
       " 438,\n",
       " 439,\n",
       " 440,\n",
       " 441,\n",
       " 442,\n",
       " 443,\n",
       " 444,\n",
       " 445,\n",
       " 446,\n",
       " 447,\n",
       " 448,\n",
       " 449,\n",
       " 451,\n",
       " 452,\n",
       " 453,\n",
       " 454,\n",
       " 455,\n",
       " 458,\n",
       " 459,\n",
       " 460,\n",
       " 461,\n",
       " 462,\n",
       " 464,\n",
       " 465,\n",
       " 468,\n",
       " 469,\n",
       " 470,\n",
       " 471,\n",
       " 473,\n",
       " 474,\n",
       " 480,\n",
       " 481,\n",
       " 487,\n",
       " 488,\n",
       " 489,\n",
       " 490,\n",
       " 491,\n",
       " 493,\n",
       " 494,\n",
       " 496,\n",
       " 497,\n",
       " 498,\n",
       " 514,\n",
       " 515,\n",
       " 516,\n",
       " 517,\n",
       " 518,\n",
       " 527,\n",
       " 528,\n",
       " 529,\n",
       " 532,\n",
       " 534,\n",
       " 535,\n",
       " 536,\n",
       " 537,\n",
       " 538,\n",
       " 539,\n",
       " 540,\n",
       " 541,\n",
       " 542,\n",
       " 543,\n",
       " 544,\n",
       " 545,\n",
       " 546,\n",
       " 547,\n",
       " 548,\n",
       " 556,\n",
       " 557,\n",
       " 558,\n",
       " 559,\n",
       " 560,\n",
       " 561,\n",
       " 562,\n",
       " 563,\n",
       " 566,\n",
       " 567,\n",
       " 568,\n",
       " 571,\n",
       " 579,\n",
       " 580,\n",
       " 581,\n",
       " 582,\n",
       " 583,\n",
       " 584,\n",
       " 586,\n",
       " 587,\n",
       " 588,\n",
       " 589,\n",
       " 590,\n",
       " 591,\n",
       " 592,\n",
       " 593,\n",
       " 594,\n",
       " 595,\n",
       " 612,\n",
       " 614,\n",
       " 615,\n",
       " 616,\n",
       " 619,\n",
       " 620,\n",
       " 621,\n",
       " 622,\n",
       " 623,\n",
       " 624,\n",
       " 625,\n",
       " 626,\n",
       " 628,\n",
       " 629,\n",
       " 632,\n",
       " 633,\n",
       " 635,\n",
       " 636,\n",
       " 637,\n",
       " 647,\n",
       " 648,\n",
       " 649,\n",
       " 650,\n",
       " 651,\n",
       " 652,\n",
       " 653,\n",
       " 654,\n",
       " 655,\n",
       " 656,\n",
       " 657,\n",
       " 660,\n",
       " 669,\n",
       " 670,\n",
       " 676,\n",
       " 678,\n",
       " 679,\n",
       " 680,\n",
       " 682,\n",
       " 683,\n",
       " 684,\n",
       " 685,\n",
       " 687,\n",
       " 689,\n",
       " 690,\n",
       " 691,\n",
       " 692,\n",
       " 693,\n",
       " 695,\n",
       " 698,\n",
       " 699,\n",
       " 700,\n",
       " 701,\n",
       " 703,\n",
       " 704,\n",
       " 706,\n",
       " 707,\n",
       " 711,\n",
       " 712,\n",
       " 713,\n",
       " 714,\n",
       " 715,\n",
       " 718,\n",
       " 719,\n",
       " 721,\n",
       " 722,\n",
       " 723,\n",
       " 724,\n",
       " 725,\n",
       " 726,\n",
       " 728,\n",
       " 729,\n",
       " 730,\n",
       " 732,\n",
       " 733,\n",
       " 735,\n",
       " 736,\n",
       " 737,\n",
       " 739,\n",
       " 741,\n",
       " 742,\n",
       " 745,\n",
       " 746,\n",
       " 748,\n",
       " 750,\n",
       " 751,\n",
       " 752,\n",
       " 753,\n",
       " 754,\n",
       " 755,\n",
       " 756,\n",
       " 757,\n",
       " 758,\n",
       " 759,\n",
       " 760,\n",
       " 761,\n",
       " 762,\n",
       " 765,\n",
       " 766,\n",
       " 767,\n",
       " 768,\n",
       " 769,\n",
       " 774,\n",
       " 775,\n",
       " 776,\n",
       " 777,\n",
       " 778,\n",
       " 779,\n",
       " 780,\n",
       " 781,\n",
       " 782,\n",
       " 783,\n",
       " 784,\n",
       " 785,\n",
       " 786,\n",
       " 787,\n",
       " 788,\n",
       " 789,\n",
       " 790,\n",
       " 794,\n",
       " 795,\n",
       " 796,\n",
       " 797,\n",
       " 800,\n",
       " 801,\n",
       " 802,\n",
       " 803,\n",
       " 805,\n",
       " 810,\n",
       " 811,\n",
       " 812,\n",
       " 813,\n",
       " 814,\n",
       " 818,\n",
       " 819,\n",
       " 820,\n",
       " 821,\n",
       " 822,\n",
       " 825,\n",
       " 826,\n",
       " 827,\n",
       " 828,\n",
       " 834,\n",
       " 837,\n",
       " 838,\n",
       " 841,\n",
       " 842,\n",
       " 843,\n",
       " 844,\n",
       " 845,\n",
       " 846,\n",
       " 847,\n",
       " 848,\n",
       " 850,\n",
       " 851,\n",
       " 852,\n",
       " 859,\n",
       " 860,\n",
       " 861,\n",
       " 863,\n",
       " 874,\n",
       " 875,\n",
       " 876,\n",
       " 877,\n",
       " 878,\n",
       " 879,\n",
       " 880,\n",
       " 881,\n",
       " 882,\n",
       " 884,\n",
       " 904,\n",
       " 905,\n",
       " 906,\n",
       " 907,\n",
       " 908,\n",
       " 913,\n",
       " 916,\n",
       " 919,\n",
       " 920,\n",
       " 921,\n",
       " 922,\n",
       " 923,\n",
       " 924,\n",
       " 925,\n",
       " 926,\n",
       " 927,\n",
       " 928,\n",
       " 929,\n",
       " 930,\n",
       " 932,\n",
       " 933,\n",
       " 934,\n",
       " 935,\n",
       " 936,\n",
       " 937,\n",
       " 942,\n",
       " 943,\n",
       " 944,\n",
       " 970,\n",
       " 971,\n",
       " 972,\n",
       " 973,\n",
       " 974,\n",
       " 975,\n",
       " 976,\n",
       " 978,\n",
       " 979,\n",
       " 980,\n",
       " 981,\n",
       " 982,\n",
       " 1002,\n",
       " 1003,\n",
       " 1004,\n",
       " 1005,\n",
       " 1006,\n",
       " 1007,\n",
       " 1008,\n",
       " 1009,\n",
       " 1010,\n",
       " 1016,\n",
       " 1017,\n",
       " 1035,\n",
       " 1065,\n",
       " 1066,\n",
       " 1067,\n",
       " 1068,\n",
       " 1069,\n",
       " 1070,\n",
       " 1071,\n",
       " 1072,\n",
       " 1073,\n",
       " 1074,\n",
       " 1076,\n",
       " 1077,\n",
       " 1078,\n",
       " 1079,\n",
       " 1080,\n",
       " 1081,\n",
       " 1082,\n",
       " 1083,\n",
       " 1085,\n",
       " 1086,\n",
       " 1087,\n",
       " 1088,\n",
       " 1089,\n",
       " 1096,\n",
       " 1097,\n",
       " 1098,\n",
       " 1099,\n",
       " 1100,\n",
       " 1102,\n",
       " 1103,\n",
       " 1104,\n",
       " 1105,\n",
       " 1107,\n",
       " 1108,\n",
       " 1109,\n",
       " 1111,\n",
       " 1112,\n",
       " 1113,\n",
       " 1114,\n",
       " 1115,\n",
       " 1122,\n",
       " 1123,\n",
       " 1124,\n",
       " 1131,\n",
       " 1132,\n",
       " 1139,\n",
       " 1140,\n",
       " 1141,\n",
       " 1148,\n",
       " 1149,\n",
       " 1150,\n",
       " 1151,\n",
       " 1152,\n",
       " 1153,\n",
       " 1154,\n",
       " 1155,\n",
       " 1156,\n",
       " 1157,\n",
       " 1158,\n",
       " 1159,\n",
       " 1160,\n",
       " 1161,\n",
       " 1162,\n",
       " 1163,\n",
       " 1164,\n",
       " 1165,\n",
       " 1176,\n",
       " 1177,\n",
       " 1178,\n",
       " 1179,\n",
       " 1180,\n",
       " 1181,\n",
       " 1182,\n",
       " 1183,\n",
       " 1184,\n",
       " 1185,\n",
       " 1186,\n",
       " 1187,\n",
       " 1189,\n",
       " 1190,\n",
       " 1191,\n",
       " 1192,\n",
       " 1193,\n",
       " 1199,\n",
       " 1200,\n",
       " 1201,\n",
       " 1202,\n",
       " 1203,\n",
       " 1204,\n",
       " 1205,\n",
       " 1207,\n",
       " 1208,\n",
       " 1209,\n",
       " 1210,\n",
       " 1219,\n",
       " 1220,\n",
       " 1221,\n",
       " 1222,\n",
       " 1223,\n",
       " 1224,\n",
       " 1225,\n",
       " 1226,\n",
       " 1227,\n",
       " 1228,\n",
       " 1229,\n",
       " 1230,\n",
       " 1231,\n",
       " 1232,\n",
       " 1233,\n",
       " 1602,\n",
       " 1603,\n",
       " 1604,\n",
       " 1605,\n",
       " 1606,\n",
       " 1607,\n",
       " 1608,\n",
       " 1611,\n",
       " 1612,\n",
       " 1613,\n",
       " 1614,\n",
       " 1616,\n",
       " 1617,\n",
       " 1618,\n",
       " 1619,\n",
       " 1620,\n",
       " 1621,\n",
       " 1622,\n",
       " 1623,\n",
       " 1624,\n",
       " 1625,\n",
       " 1628,\n",
       " 1629,\n",
       " 1630,\n",
       " 1631,\n",
       " 1636,\n",
       " 1637,\n",
       " 1638,\n",
       " 1639,\n",
       " 1640,\n",
       " 1641,\n",
       " 1642,\n",
       " 1643,\n",
       " 1644,\n",
       " 1645,\n",
       " 1652,\n",
       " 1653,\n",
       " 1654,\n",
       " 1655,\n",
       " 1656,\n",
       " 1657,\n",
       " 1658,\n",
       " 1659,\n",
       " 1660,\n",
       " 1661,\n",
       " 1662,\n",
       " 1663,\n",
       " 1664,\n",
       " 1669,\n",
       " 1670,\n",
       " 1671,\n",
       " 1683,\n",
       " 1685,\n",
       " 1686,\n",
       " 1687,\n",
       " 1688,\n",
       " 1690,\n",
       " 1692,\n",
       " 1693,\n",
       " 1694,\n",
       " 1695,\n",
       " 1696,\n",
       " 1704,\n",
       " 1705,\n",
       " 1706,\n",
       " 1707,\n",
       " 1708,\n",
       " 1710,\n",
       " 1715,\n",
       " 1716,\n",
       " 1747,\n",
       " 1748,\n",
       " 1749,\n",
       " 1750,\n",
       " 1751,\n",
       " 1752,\n",
       " 1755,\n",
       " 1757,\n",
       " 1758,\n",
       " 1759,\n",
       " 1760,\n",
       " 1761,\n",
       " 1762,\n",
       " 1763,\n",
       " 1764,\n",
       " 1765,\n",
       " 1766,\n",
       " 1767,\n",
       " 1768,\n",
       " 1769,\n",
       " 1771,\n",
       " 1772,\n",
       " 1773,\n",
       " 1774,\n",
       " 1775,\n",
       " 1776,\n",
       " 1777,\n",
       " 1778,\n",
       " 1782,\n",
       " 1783,\n",
       " 1784,\n",
       " 1785,\n",
       " 1788,\n",
       " 1789,\n",
       " 1790,\n",
       " 1791,\n",
       " 1792,\n",
       " 1793,\n",
       " 1794,\n",
       " 1795,\n",
       " 1796,\n",
       " 1797,\n",
       " 1799,\n",
       " 1800,\n",
       " 1801,\n",
       " 1802,\n",
       " 1825,\n",
       " 1826,\n",
       " 1827,\n",
       " 1829,\n",
       " 1830,\n",
       " 1831,\n",
       " 1832,\n",
       " 1834,\n",
       " 1889,\n",
       " 1890,\n",
       " 1891,\n",
       " 1892,\n",
       " 1893,\n",
       " 1894,\n",
       " 1895,\n",
       " 1896,\n",
       " 1897,\n",
       " 1898,\n",
       " 1899,\n",
       " 1900,\n",
       " 1901,\n",
       " 1902,\n",
       " 1903,\n",
       " 1919,\n",
       " 1920,\n",
       " 1921,\n",
       " 1922,\n",
       " 2312,\n",
       " 2313,\n",
       " 2314,\n",
       " 2315,\n",
       " 2316,\n",
       " 2317,\n",
       " 2318,\n",
       " 2319,\n",
       " 2320,\n",
       " 2321,\n",
       " 2322,\n",
       " 2323,\n",
       " 2324,\n",
       " 2325,\n",
       " 2326,\n",
       " 2327,\n",
       " 2329,\n",
       " 2330,\n",
       " 2331,\n",
       " 2332,\n",
       " 2334,\n",
       " 2335,\n",
       " 2339,\n",
       " 2340,\n",
       " 2345,\n",
       " 2346,\n",
       " 2347,\n",
       " 2348,\n",
       " 2349,\n",
       " 2350,\n",
       " 2351,\n",
       " 2352,\n",
       " 2355,\n",
       " 2356,\n",
       " 2357,\n",
       " 2358,\n",
       " 2359,\n",
       " 2360,\n",
       " 2373,\n",
       " 2375,\n",
       " 2376,\n",
       " 2396,\n",
       " 2397,\n",
       " 2398,\n",
       " 2399,\n",
       " 2407,\n",
       " 2408,\n",
       " 2409,\n",
       " 2410,\n",
       " 2411,\n",
       " 2412,\n",
       " 2413,\n",
       " 2414,\n",
       " 2416,\n",
       " 2417,\n",
       " 2418,\n",
       " 2419,\n",
       " 2443,\n",
       " 2444,\n",
       " 2445,\n",
       " 2446,\n",
       " 2488,\n",
       " 2489,\n",
       " 2490,\n",
       " 2496,\n",
       " 2497,\n",
       " 2498,\n",
       " 2499,\n",
       " 2502,\n",
       " 2599,\n",
       " 2600,\n",
       " 2601,\n",
       " 2602,\n",
       " 2603,\n",
       " 2604,\n",
       " 2605,\n",
       " 2606]"
      ]
     },
     "execution_count": 41,
     "metadata": {},
     "output_type": "execute_result"
    }
   ],
   "source": [
    "vor.regions[9]"
   ]
  },
  {
   "cell_type": "code",
   "execution_count": 36,
   "metadata": {},
   "outputs": [
    {
     "data": {
      "text/plain": [
       "array([29, 19, 27, 21, 30, 18,  1,  0, 10,  4, 12,  8,  6,  5, 13,  9, 26,\n",
       "       20, 28, 23, 25, 24,  2, 31, 14,  3, 16, 11, 17,  7, 22, 15],\n",
       "      dtype=int64)"
      ]
     },
     "execution_count": 36,
     "metadata": {},
     "output_type": "execute_result"
    }
   ],
   "source": [
    "vor.point_region\n"
   ]
  },
  {
   "cell_type": "code",
   "execution_count": 35,
   "metadata": {},
   "outputs": [
    {
     "data": {
      "text/plain": [
       "(array([3], dtype=int64),)"
      ]
     },
     "execution_count": 35,
     "metadata": {},
     "output_type": "execute_result"
    }
   ],
   "source": [
    "np.where(vor.point_region == 21)"
   ]
  },
  {
   "cell_type": "code",
   "execution_count": null,
   "metadata": {},
   "outputs": [],
   "source": [
    "vor.point_region"
   ]
  },
  {
   "cell_type": "code",
   "execution_count": 66,
   "metadata": {},
   "outputs": [
    {
     "name": "stdout",
     "output_type": "stream",
     "text": [
      "[2.00e+02 5.11e-01 7.10e+01 8.60e+01 1.40e+01 3.50e+00 1.80e-01]\n",
      "[1.6291e+04 5.1100e-01 7.1000e+01 8.6000e+01 1.4000e+01 3.5000e+00\n",
      " 1.8000e-01]\n",
      "[2.00e+02 2.26e-01 7.10e+01 8.60e+01 1.40e+01 3.50e+00 1.80e-01]\n",
      "[1.6291e+04 2.2600e-01 7.1000e+01 8.6000e+01 1.4000e+01 3.5000e+00\n",
      " 1.8000e-01]\n",
      "[2.00e+02 5.11e-01 4.00e+01 4.25e+01 8.00e+00 3.50e+00 1.80e-01]\n",
      "[1.6291e+04 5.1100e-01 4.0000e+01 4.2500e+01 8.0000e+00 3.5000e+00\n",
      " 1.8000e-01]\n",
      "[2.00e+02 2.26e-01 4.00e+01 4.25e+01 8.00e+00 3.50e+00 1.80e-01]\n",
      "[1.6291e+04 2.2600e-01 4.0000e+01 4.2500e+01 8.0000e+00 3.5000e+00\n",
      " 1.8000e-01]\n",
      "[2.00e+02 5.11e-01 7.10e+01 8.60e+01 1.40e+01 2.00e+01 1.80e-01]\n",
      "[1.6291e+04 5.1100e-01 7.1000e+01 8.6000e+01 1.4000e+01 2.0000e+01\n",
      " 1.8000e-01]\n",
      "[2.00e+02 2.26e-01 7.10e+01 8.60e+01 1.40e+01 2.00e+01 1.80e-01]\n",
      "[1.6291e+04 2.2600e-01 7.1000e+01 8.6000e+01 1.4000e+01 2.0000e+01\n",
      " 1.8000e-01]\n",
      "[2.00e+02 5.11e-01 4.00e+01 4.25e+01 8.00e+00 2.00e+01 1.80e-01]\n",
      "[1.6291e+04 5.1100e-01 4.0000e+01 4.2500e+01 8.0000e+00 2.0000e+01\n",
      " 1.8000e-01]\n",
      "[2.00e+02 2.26e-01 4.00e+01 4.25e+01 8.00e+00 2.00e+01 1.80e-01]\n",
      "[1.6291e+04 2.2600e-01 4.0000e+01 4.2500e+01 8.0000e+00 2.0000e+01\n",
      " 1.8000e-01]\n",
      "[200.      0.511  71.     86.     14.      3.5     0.8  ]\n",
      "[1.6291e+04 5.1100e-01 7.1000e+01 8.6000e+01 1.4000e+01 3.5000e+00\n",
      " 8.0000e-01]\n",
      "[200.      0.226  71.     86.     14.      3.5     0.8  ]\n",
      "[1.6291e+04 2.2600e-01 7.1000e+01 8.6000e+01 1.4000e+01 3.5000e+00\n",
      " 8.0000e-01]\n",
      "[200.      0.511  40.     42.5     8.      3.5     0.8  ]\n",
      "[1.6291e+04 5.1100e-01 4.0000e+01 4.2500e+01 8.0000e+00 3.5000e+00\n",
      " 8.0000e-01]\n",
      "[200.      0.226  40.     42.5     8.      3.5     0.8  ]\n",
      "[1.6291e+04 2.2600e-01 4.0000e+01 4.2500e+01 8.0000e+00 3.5000e+00\n",
      " 8.0000e-01]\n",
      "[200.      0.511  71.     86.     14.     20.      0.8  ]\n",
      "[1.6291e+04 5.1100e-01 7.1000e+01 8.6000e+01 1.4000e+01 2.0000e+01\n",
      " 8.0000e-01]\n",
      "[200.      0.226  71.     86.     14.     20.      0.8  ]\n",
      "[1.6291e+04 2.2600e-01 7.1000e+01 8.6000e+01 1.4000e+01 2.0000e+01\n",
      " 8.0000e-01]\n",
      "[200.      0.511  40.     42.5     8.     20.      0.8  ]\n",
      "[1.6291e+04 5.1100e-01 4.0000e+01 4.2500e+01 8.0000e+00 2.0000e+01\n",
      " 8.0000e-01]\n",
      "[200.      0.226  40.     42.5     8.     20.      0.8  ]\n",
      "[1.6291e+04 2.2600e-01 4.0000e+01 4.2500e+01 8.0000e+00 2.0000e+01\n",
      " 8.0000e-01]\n"
     ]
    }
   ],
   "source": [
    "for i,Exp  in enumerate(mat['Experiments']):\n",
    "    print(Exp)"
   ]
  },
  {
   "cell_type": "code",
   "execution_count": 385,
   "metadata": {},
   "outputs": [],
   "source": [
    "def AdaptativeSampling(modelList,Experimentos,Salidas,NumExpe):\n",
    "    [Ne,Dim]=Experimentos.shape\n",
    "    scoreList=list()\n",
    "    for model in modelList:\n",
    "        scoresMld =cross_val_score(model, Experimentos,Salidas, cv=Ne,scoring='neg_mean_absolute_error')\n",
    "        scoreList.append(scoresMld)\n",
    "    scoreArray=np.array(scoreList)\n",
    "    scores=np.mean(scoreArray,axis=0)\n",
    "    vor = Voronoi(Experimentos,qhull_options=\"QJ\")\n",
    "    LenVertex=len(vor.vertices)\n",
    "    \n",
    "    usefulVertex=list()\n",
    "    usefulVerIndex=list()\n",
    "    for verIndex,vertex in enumerate(vor2.vertices):\n",
    "        flag=True\n",
    "        for index,parm in enumerate(vertex):\n",
    "            if parm<minlimit[index] or parm>maxlimit[index]:\n",
    "                flag=False\n",
    "        if flag:\n",
    "            usefulVertex.append(vertex)\n",
    "            usefulVerIndex.append(verIndex)\n",
    "    #print(usefulVertex)\n",
    "    VoroniScoresExp=[]\n",
    "    VoroniScores=[]\n",
    "    for i,vertex in enumerate(vor.vertices):\n",
    "        vetexscore=[]\n",
    "        if i in usefulVerIndex:\n",
    "            for j, case in enumerate(vor.regions):\n",
    "                if i in case:\n",
    "                    vetexscore.append(scores[j])\n",
    "        else:\n",
    "            vetexscore.append(-1000)\n",
    "        \n",
    "        VoroniScores.append(np.mean(np.array(vetexscore)))\n",
    "        VoroniScoresExp.append(vetexscore)\n",
    "    #print(np.array(VoroniScores).shape)    \n",
    "    point_selection_order=np.argsort(np.array(VoroniScores))\n",
    "    point_selValues=np.sort(np.array(VoroniScores))\n",
    "    #print(np.sort(np.array(VoroniScores)*-1))\n",
    "    #print(point_selection_order)\n",
    "    New_points=vor.vertices[point_selection_order[:NumExpe]]\n",
    "    return New_points,VoroniScores, VoroniScoresExp\n",
    "        "
   ]
  },
  {
   "cell_type": "code",
   "execution_count": 386,
   "metadata": {},
   "outputs": [],
   "source": [
    "points,scores,scoreExp=AdaptativeSampling([ModeloSVM,ModeloSVM], mats['Experimments'],mats['Expout'].reshape(33),8)"
   ]
  },
  {
   "cell_type": "code",
   "execution_count": 387,
   "metadata": {},
   "outputs": [
    {
     "data": {
      "text/plain": [
       "array([[2.00190021e+02, 3.69119961e-01, 4.69742253e+01, 7.07210248e+01,\n",
       "        8.13488224e+00, 1.17500164e+01, 4.89918036e-01],\n",
       "       [2.41342926e+02, 3.70392480e-01, 6.19056768e+01, 5.99508223e+01,\n",
       "        9.07314192e+00, 1.17499485e+01, 4.89418858e-01],\n",
       "       [1.62610382e+04, 3.69552415e-01, 4.78258524e+01, 6.93186419e+01,\n",
       "        1.39020828e+01, 1.17500498e+01, 4.90543990e-01],\n",
       "       [1.62630103e+04, 3.69962291e-01, 5.24050176e+01, 6.63497504e+01,\n",
       "        1.17675450e+01, 1.17500467e+01, 4.90730380e-01],\n",
       "       [1.62575346e+04, 3.69781360e-01, 5.12235259e+01, 6.69229011e+01,\n",
       "        1.37165820e+01, 1.17500510e+01, 4.90690469e-01],\n",
       "       [1.62658703e+04, 3.69821778e-01, 5.56052733e+01, 6.38281983e+01,\n",
       "        1.35141389e+01, 1.17500388e+01, 4.90803007e-01],\n",
       "       [1.62866352e+04, 3.70131074e-01, 6.42275358e+01, 5.80916137e+01,\n",
       "        1.05559972e+01, 1.17500135e+01, 4.91492000e-01],\n",
       "       [1.62794050e+04, 3.69833434e-01, 5.36233557e+01, 6.56396257e+01,\n",
       "        1.06211579e+01, 1.17500132e+01, 4.91137888e-01]])"
      ]
     },
     "execution_count": 387,
     "metadata": {},
     "output_type": "execute_result"
    }
   ],
   "source": [
    "points"
   ]
  },
  {
   "cell_type": "code",
   "execution_count": 43,
   "metadata": {},
   "outputs": [],
   "source": [
    "points = np.array([[0, 0], [0, 1], [0, 2], [1, 0], [1, 1], [1, 2],\n",
    "                   [2, 0], [2, 1], [2, 2]])\n",
    "from scipy.spatial import Voronoi, voronoi_plot_2d\n",
    "vor = Voronoi(points)"
   ]
  },
  {
   "cell_type": "code",
   "execution_count": 44,
   "metadata": {},
   "outputs": [
    {
     "data": {
      "text/plain": [
       "array([1, 3, 2, 8, 7, 9, 6, 4, 5], dtype=int64)"
      ]
     },
     "execution_count": 44,
     "metadata": {},
     "output_type": "execute_result"
    }
   ],
   "source": [
    "vor.point_region"
   ]
  },
  {
   "cell_type": "code",
   "execution_count": 45,
   "metadata": {},
   "outputs": [
    {
     "data": {
      "text/plain": [
       "[[],\n",
       " [-1, 0],\n",
       " [-1, 1],\n",
       " [1, -1, 0],\n",
       " [3, -1, 2],\n",
       " [-1, 3],\n",
       " [-1, 2],\n",
       " [0, 1, 3, 2],\n",
       " [2, -1, 0],\n",
       " [3, -1, 1]]"
      ]
     },
     "execution_count": 45,
     "metadata": {},
     "output_type": "execute_result"
    }
   ],
   "source": [
    "vor.regions"
   ]
  },
  {
   "cell_type": "code",
   "execution_count": 132,
   "metadata": {},
   "outputs": [],
   "source": [
    "A=np.array([1,2,3,4])\n",
    "b=[A,A,A]"
   ]
  },
  {
   "cell_type": "code",
   "execution_count": 133,
   "metadata": {},
   "outputs": [
    {
     "data": {
      "text/plain": [
       "[array([1, 2, 3, 4]), array([1, 2, 3, 4]), array([1, 2, 3, 4])]"
      ]
     },
     "execution_count": 133,
     "metadata": {},
     "output_type": "execute_result"
    }
   ],
   "source": [
    "b"
   ]
  },
  {
   "cell_type": "code",
   "execution_count": 134,
   "metadata": {},
   "outputs": [],
   "source": [
    "c=np.array(b)"
   ]
  },
  {
   "cell_type": "code",
   "execution_count": 135,
   "metadata": {},
   "outputs": [
    {
     "data": {
      "text/plain": [
       "(3, 4)"
      ]
     },
     "execution_count": 135,
     "metadata": {},
     "output_type": "execute_result"
    }
   ],
   "source": [
    "c.shape\n"
   ]
  },
  {
   "cell_type": "code",
   "execution_count": 141,
   "metadata": {},
   "outputs": [
    {
     "data": {
      "text/plain": [
       "array([1., 2., 3., 4.])"
      ]
     },
     "execution_count": 141,
     "metadata": {},
     "output_type": "execute_result"
    }
   ],
   "source": [
    "np.mean(c,axis=0)"
   ]
  },
  {
   "cell_type": "code",
   "execution_count": 220,
   "metadata": {},
   "outputs": [],
   "source": [
    "points = np.array([[0, 0], [0, 1], [0, 2], [1, 0], [1, 1], [1, 2],\n",
    "                   [2, 0], [2, 1], [2, 2]])\n",
    "from scipy.spatial import Voronoi, voronoi_plot_2d\n",
    "vor = Voronoi(points,qhull_options=\"QJ\")"
   ]
  },
  {
   "cell_type": "code",
   "execution_count": 221,
   "metadata": {},
   "outputs": [
    {
     "data": {
      "image/png": "[encoded data removed]",
      "text/plain": [
       "<Figure size 432x288 with 1 Axes>"
      ]
     },
     "metadata": {
      "needs_background": "light"
     },
     "output_type": "display_data"
    }
   ],
   "source": [
    "import matplotlib.pyplot as plt\n",
    "fig = voronoi_plot_2d(vor)\n",
    "plt.show()"
   ]
  },
  {
   "cell_type": "code",
   "execution_count": 265,
   "metadata": {},
   "outputs": [],
   "source": [
    "points = [[-30.0, 30.370371], [-27.777777, 35.925926], [-34.444443, 58.51852], [-2.9629631, 57.777779], [-17.777779, 75.185181], [-29.25926, 58.148151], [-11.111112, 33.703705], [-11.481482, 40.0], [-27.037037, 40.0], [-7.7777777, 94.444443], [-2.2222223, 122.22222], [-20.370371, 106.66667], [1.1111112, 125.18518], [-6.2962961, 128.88889], [6.666667, 133.7037], [11.851852, 136.2963], [8.5185184, 140.74074], [20.370371, 92.962959], [17.777779, 114.81482], [12.962962, 97.037041], [13.333334, 127.77778], [22.592592, 120.37037], [16.296295, 127.77778], [11.851852, 50.740742], [20.370371, 54.814816], [19.25926, 47.40741], [32.59259, 122.96296], [20.74074, 130.0], [24.814816, 84.814819], [26.296295, 91.111107], [56.296295, 131.48149], [60.0, 141.85185], [32.222221, 136.66667], [53.703705, 147.03703], [87.40741, 196.2963], [34.074074, 159.62964], [34.444443, -2.5925925], [36.666668, -1.8518518], [34.074074, -7.4074073], [35.555557, -18.888889], [76.666664, -39.629627], [35.185184, -37.777779], [25.185184, 14.074074], [42.962959, 32.962963], [35.925926, 9.2592592], [52.222221, 77.777779], [57.777779, 92.222221], [47.037041, 92.59259], [82.222221, 54.074074], [48.888889, 24.444445], [35.925926, 47.777779], [50.740742, 69.259254], [51.111111, 51.851849], [56.666664, -12.222222], [117.40741, -4.4444447], [59.629631, -5.9259262], [66.666664, 134.07408], [91.481483, 127.40741], [66.666664, 141.48149], [53.703705, 4.0740738], [85.185181, 11.851852], [69.629631, 0.37037039], [68.518517, 99.259262], [75.185181, 100.0], [70.370369, 113.7037], [74.444443, 82.59259], [82.222221, 93.703697], [72.222221, 84.444443], [77.777779, 167.03703], [88.888893, 168.88889], [73.703705, 178.88889], [87.037041, 123.7037], [78.518517, 97.037041], [95.555557, 52.962959], [85.555557, 57.037041], [90.370369, 23.333332], [100.0, 28.51852], [88.888893, 37.037037], [87.037041, -42.962959], [89.259262, -24.814816], [93.333328, 7.4074073], [98.518517, 5.185185], [92.59259, 1.4814816], [85.925919, 153.7037], [95.555557, 154.44444], [92.962959, 150.0], [97.037041, 95.925919], [106.66667, 115.55556], [92.962959, 114.81482], [108.88889, 56.296295], [97.777779, 50.740742], [94.074081, 89.259262], [96.666672, 91.851852], [102.22222, 77.777779], [107.40741, 40.370369], [105.92592, 29.629629], [105.55556, -46.296295], [118.51852, -47.777779], [112.22222, -43.333336], [112.59259, 25.185184], [115.92592, 27.777777], [112.59259, 31.851852], [107.03704, -36.666668], [118.88889, -32.59259], [114.07408, -25.555555], [115.92592, 85.185181], [105.92592, 18.888889], [121.11111, 14.444445], [129.25926, -28.51852], [127.03704, -18.518518], [139.25926, -12.222222], [141.48149, 3.7037036], [137.03703, -4.814815], [153.7037, -26.666668], [-2.2222223, 5.5555558], [0.0, 9.6296301], [10.74074, 20.74074], [2.2222223, 54.074074], [4.0740738, 50.740742], [34.444443, 46.296295], [11.481482, 1.4814816], [24.074076, -2.9629631], [74.814819, 79.259254], [67.777779, 152.22223], [57.037041, 127.03704], [89.259262, 12.222222]]\n",
    "points = np.array(points)"
   ]
  },
  {
   "cell_type": "code",
   "execution_count": 268,
   "metadata": {},
   "outputs": [],
   "source": [
    "minlimit=points.min(axis=0)\n",
    "maxlimit=points.max(axis=0)"
   ]
  },
  {
   "cell_type": "code",
   "execution_count": 269,
   "metadata": {},
   "outputs": [],
   "source": [
    "vor = Voronoi(points,qhull_options=\"QJ\")"
   ]
  },
  {
   "cell_type": "code",
   "execution_count": 270,
   "metadata": {},
   "outputs": [
    {
     "data": {
      "image/png": "[encoded data removed]",
      "text/plain": [
       "<Figure size 432x288 with 1 Axes>"
      ]
     },
     "metadata": {
      "needs_background": "light"
     },
     "output_type": "display_data"
    }
   ],
   "source": [
    "fig = voronoi_plot_2d(vor)\n",
    "plt.show()"
   ]
  },
  {
   "cell_type": "code",
   "execution_count": 271,
   "metadata": {},
   "outputs": [],
   "source": [
    "usefulVertex=list()\n",
    "for vertex in vor.vertices:\n",
    "    flag=True\n",
    "    for index,parm in enumerate(vertex):\n",
    "        if parm<minlimit[index] or parm>maxlimit[index]:\n",
    "            flag=False\n",
    "    if flag:\n",
    "        usefulVertex.append(vertex)\n",
    "            "
   ]
  },
  {
   "cell_type": "code",
   "execution_count": 272,
   "metadata": {},
   "outputs": [
    {
     "data": {
      "text/plain": [
       "223"
      ]
     },
     "execution_count": 272,
     "metadata": {},
     "output_type": "execute_result"
    }
   ],
   "source": [
    "len(usefulVertex)"
   ]
  },
  {
   "cell_type": "code",
   "execution_count": 274,
   "metadata": {},
   "outputs": [
    {
     "data": {
      "text/plain": [
       "(239, 2)"
      ]
     },
     "execution_count": 274,
     "metadata": {},
     "output_type": "execute_result"
    }
   ],
   "source": [
    "vor.vertices.shape"
   ]
  },
  {
   "cell_type": "code",
   "execution_count": 350,
   "metadata": {},
   "outputs": [
    {
     "data": {
      "text/plain": [
       "2"
      ]
     },
     "execution_count": 350,
     "metadata": {},
     "output_type": "execute_result"
    }
   ],
   "source": [
    "np.array([1,2,3]).argmax()"
   ]
  },
  {
   "cell_type": "code",
   "execution_count": 377,
   "metadata": {},
   "outputs": [],
   "source": [
    "def LogRegister(jsonName,modelList,Experiments,ExpOuts,IteratioNum):\n",
    "    import json\n",
    "    interjson=dict()\n",
    "    try:\n",
    "        \n",
    "        log=json.load(open(jsonName+\".json\"))\n",
    "        \n",
    "    except:\n",
    "        log=dict()\n",
    "    \n",
    "    \n",
    "    interjson[\"models\"]=list()\n",
    "    interjson[\"modelsScore\"]=list()\n",
    "    for model in modelList:\n",
    "        modelRepot=dict()\n",
    "        \n",
    "        modelRepot[\"BestScore\"]=model.best_score_\n",
    "        modelRepot[\"BestParams\"]=model.best_params_\n",
    "        interjson[\"models\"].append(modelRepot)    \n",
    "        interjson[\"modelsScore\"].append(model.best_score_)\n",
    "        \n",
    "    \n",
    "    interjson[\"PointNumber\"]=len(Experiments)\n",
    "    interjson[\"Experiments\"]=Experiments.tolist()\n",
    "    interjson[\"Outs\"]=ExpOuts.tolist()\n",
    "    interjson[\"Iteration\"]=IteratioNum\n",
    "    print(log)\n",
    "    log.update({str(IteratioNum):interjson})\n",
    "    MaxScore=np.array(interjson[\"modelsScore\"]).max()\n",
    "    MaxArgmax=np.array(interjson[\"modelsScore\"]).argmax()\n",
    "    bestModel=interjson[\"models\"][MaxArgmax][\"BestParams\"]\n",
    "    print(\"--------------------------------------------------------\")\n",
    "    print(\"Iteration {}\".format(IteratioNum))\n",
    "    print(\"Best model {}\".format(bestModel))\n",
    "    print(\"Best model score  {}\".format(MaxScore))\n",
    "    print(\"Number of experiments {}\".format(len(Experiments)))\n",
    "    s = json.dumps(log)\n",
    "    open(jsonName+\".json\",\"w\").write(s)\n",
    "    "
   ]
  },
  {
   "cell_type": "code",
   "execution_count": 379,
   "metadata": {
    "scrolled": false
   },
   "outputs": [
    {
     "name": "stdout",
     "output_type": "stream",
     "text": [
      "entro\n",
      "{'3': {'models': [{'BestScore': -0.07055820741242444, 'BestParams': {'C': 0.1, 'gamma': 1, 'kernel': 'linear'}}, {'BestScore': -0.07055820741242444, 'BestParams': {'C': 0.1, 'gamma': 1, 'kernel': 'linear'}}], 'modelsScore': [-0.07055820741242444, -0.07055820741242444], 'PointNumber': 33, 'Experiments': [[8245.5, 0.3685, 55.5, 64.25, 11.0, 11.75, 0.49000000000000005], [200.0, 0.511, 71.0, 86.0, 14.0, 3.5, 0.18], [16291.0, 0.511, 71.0, 86.0, 14.0, 3.5, 0.18], [200.0, 0.226, 71.0, 86.0, 14.0, 3.5, 0.18], [16291.0, 0.226, 71.0, 86.0, 14.0, 3.5, 0.18], [200.0, 0.511, 40.0, 42.5, 8.0, 3.5, 0.18], [16291.0, 0.511, 40.0, 42.5, 8.0, 3.5, 0.18], [200.0, 0.226, 40.0, 42.5, 8.0, 3.5, 0.18], [16291.0, 0.226, 40.0, 42.5, 8.0, 3.5, 0.18], [200.0, 0.511, 71.0, 86.0, 14.0, 20.0, 0.18], [16291.0, 0.511, 71.0, 86.0, 14.0, 20.0, 0.18], [200.0, 0.226, 71.0, 86.0, 14.0, 20.0, 0.18], [16291.0, 0.226, 71.0, 86.0, 14.0, 20.0, 0.18], [200.0, 0.511, 40.0, 42.5, 8.0, 20.0, 0.18], [16291.0, 0.511, 40.0, 42.5, 8.0, 20.0, 0.18], [200.0, 0.226, 40.0, 42.5, 8.0, 20.0, 0.18], [16291.0, 0.226, 40.0, 42.5, 8.0, 20.0, 0.18], [200.0, 0.511, 71.0, 86.0, 14.0, 3.5, 0.8], [16291.0, 0.511, 71.0, 86.0, 14.0, 3.5, 0.8], [200.0, 0.226, 71.0, 86.0, 14.0, 3.5, 0.8], [16291.0, 0.226, 71.0, 86.0, 14.0, 3.5, 0.8], [200.0, 0.511, 40.0, 42.5, 8.0, 3.5, 0.8], [16291.0, 0.511, 40.0, 42.5, 8.0, 3.5, 0.8], [200.0, 0.226, 40.0, 42.5, 8.0, 3.5, 0.8], [16291.0, 0.226, 40.0, 42.5, 8.0, 3.5, 0.8], [200.0, 0.511, 71.0, 86.0, 14.0, 20.0, 0.8], [16291.0, 0.511, 71.0, 86.0, 14.0, 20.0, 0.8], [200.0, 0.226, 71.0, 86.0, 14.0, 20.0, 0.8], [16291.0, 0.226, 71.0, 86.0, 14.0, 20.0, 0.8], [200.0, 0.511, 40.0, 42.5, 8.0, 20.0, 0.8], [16291.0, 0.511, 40.0, 42.5, 8.0, 20.0, 0.8], [200.0, 0.226, 40.0, 42.5, 8.0, 20.0, 0.8], [16291.0, 0.226, 40.0, 42.5, 8.0, 20.0, 0.8]], 'Outs': [53167.057371090435, 35.522654138180535, 2893.497792825553, 35.52265413818066, 2893.4977928255407, 847.7483525837548, 69053.80430358626, 848.1989563773722, 69053.34205970993, 88.4104287638274, 7201.471474957208, 88.41042876382755, 7201.47147495744, 307.0764060536007, 25012.908655095467, 307.0764060535994, 25012.908655095685, 157.9956354143594, 12869.534482017816, 157.99563541435919, 12869.53448201795, 3781.9921325991536, 308062.1691608757, 3781.9921325992177, 308062.16916087695, 392.96449510264046, 32008.922948587267, 392.96449510265103, 32008.922948587853, 1359.0427673699069, 110700.82861611446, 1359.0427673698605, 110700.82861611342], 'Iteration': 3}}\n",
      "{'3': {'models': [{'BestScore': -0.07055820741242444, 'BestParams': {'C': 0.1, 'gamma': 1, 'kernel': 'linear'}}, {'BestScore': -0.07055820741242444, 'BestParams': {'C': 0.1, 'gamma': 1, 'kernel': 'linear'}}], 'modelsScore': [-0.07055820741242444, -0.07055820741242444], 'PointNumber': 33, 'Experiments': [[8245.5, 0.3685, 55.5, 64.25, 11.0, 11.75, 0.49000000000000005], [200.0, 0.511, 71.0, 86.0, 14.0, 3.5, 0.18], [16291.0, 0.511, 71.0, 86.0, 14.0, 3.5, 0.18], [200.0, 0.226, 71.0, 86.0, 14.0, 3.5, 0.18], [16291.0, 0.226, 71.0, 86.0, 14.0, 3.5, 0.18], [200.0, 0.511, 40.0, 42.5, 8.0, 3.5, 0.18], [16291.0, 0.511, 40.0, 42.5, 8.0, 3.5, 0.18], [200.0, 0.226, 40.0, 42.5, 8.0, 3.5, 0.18], [16291.0, 0.226, 40.0, 42.5, 8.0, 3.5, 0.18], [200.0, 0.511, 71.0, 86.0, 14.0, 20.0, 0.18], [16291.0, 0.511, 71.0, 86.0, 14.0, 20.0, 0.18], [200.0, 0.226, 71.0, 86.0, 14.0, 20.0, 0.18], [16291.0, 0.226, 71.0, 86.0, 14.0, 20.0, 0.18], [200.0, 0.511, 40.0, 42.5, 8.0, 20.0, 0.18], [16291.0, 0.511, 40.0, 42.5, 8.0, 20.0, 0.18], [200.0, 0.226, 40.0, 42.5, 8.0, 20.0, 0.18], [16291.0, 0.226, 40.0, 42.5, 8.0, 20.0, 0.18], [200.0, 0.511, 71.0, 86.0, 14.0, 3.5, 0.8], [16291.0, 0.511, 71.0, 86.0, 14.0, 3.5, 0.8], [200.0, 0.226, 71.0, 86.0, 14.0, 3.5, 0.8], [16291.0, 0.226, 71.0, 86.0, 14.0, 3.5, 0.8], [200.0, 0.511, 40.0, 42.5, 8.0, 3.5, 0.8], [16291.0, 0.511, 40.0, 42.5, 8.0, 3.5, 0.8], [200.0, 0.226, 40.0, 42.5, 8.0, 3.5, 0.8], [16291.0, 0.226, 40.0, 42.5, 8.0, 3.5, 0.8], [200.0, 0.511, 71.0, 86.0, 14.0, 20.0, 0.8], [16291.0, 0.511, 71.0, 86.0, 14.0, 20.0, 0.8], [200.0, 0.226, 71.0, 86.0, 14.0, 20.0, 0.8], [16291.0, 0.226, 71.0, 86.0, 14.0, 20.0, 0.8], [200.0, 0.511, 40.0, 42.5, 8.0, 20.0, 0.8], [16291.0, 0.511, 40.0, 42.5, 8.0, 20.0, 0.8], [200.0, 0.226, 40.0, 42.5, 8.0, 20.0, 0.8], [16291.0, 0.226, 40.0, 42.5, 8.0, 20.0, 0.8]], 'Outs': [53167.057371090435, 35.522654138180535, 2893.497792825553, 35.52265413818066, 2893.4977928255407, 847.7483525837548, 69053.80430358626, 848.1989563773722, 69053.34205970993, 88.4104287638274, 7201.471474957208, 88.41042876382755, 7201.47147495744, 307.0764060536007, 25012.908655095467, 307.0764060535994, 25012.908655095685, 157.9956354143594, 12869.534482017816, 157.99563541435919, 12869.53448201795, 3781.9921325991536, 308062.1691608757, 3781.9921325992177, 308062.16916087695, 392.96449510264046, 32008.922948587267, 392.96449510265103, 32008.922948587853, 1359.0427673699069, 110700.82861611446, 1359.0427673698605, 110700.82861611342], 'Iteration': 3}}\n",
      "--------------------------------------------------------\n",
      "Iteration 1\n",
      "Best model {'C': 0.1, 'gamma': 1, 'kernel': 'linear'}\n",
      "Best model score  -0.07055820741242444\n",
      "Number of experiments 33\n",
      "{'3': {'models': [{'BestScore': -0.07055820741242444, 'BestParams': {'C': 0.1, 'gamma': 1, 'kernel': 'linear'}}, {'BestScore': -0.07055820741242444, 'BestParams': {'C': 0.1, 'gamma': 1, 'kernel': 'linear'}}], 'modelsScore': [-0.07055820741242444, -0.07055820741242444], 'PointNumber': 33, 'Experiments': [[8245.5, 0.3685, 55.5, 64.25, 11.0, 11.75, 0.49000000000000005], [200.0, 0.511, 71.0, 86.0, 14.0, 3.5, 0.18], [16291.0, 0.511, 71.0, 86.0, 14.0, 3.5, 0.18], [200.0, 0.226, 71.0, 86.0, 14.0, 3.5, 0.18], [16291.0, 0.226, 71.0, 86.0, 14.0, 3.5, 0.18], [200.0, 0.511, 40.0, 42.5, 8.0, 3.5, 0.18], [16291.0, 0.511, 40.0, 42.5, 8.0, 3.5, 0.18], [200.0, 0.226, 40.0, 42.5, 8.0, 3.5, 0.18], [16291.0, 0.226, 40.0, 42.5, 8.0, 3.5, 0.18], [200.0, 0.511, 71.0, 86.0, 14.0, 20.0, 0.18], [16291.0, 0.511, 71.0, 86.0, 14.0, 20.0, 0.18], [200.0, 0.226, 71.0, 86.0, 14.0, 20.0, 0.18], [16291.0, 0.226, 71.0, 86.0, 14.0, 20.0, 0.18], [200.0, 0.511, 40.0, 42.5, 8.0, 20.0, 0.18], [16291.0, 0.511, 40.0, 42.5, 8.0, 20.0, 0.18], [200.0, 0.226, 40.0, 42.5, 8.0, 20.0, 0.18], [16291.0, 0.226, 40.0, 42.5, 8.0, 20.0, 0.18], [200.0, 0.511, 71.0, 86.0, 14.0, 3.5, 0.8], [16291.0, 0.511, 71.0, 86.0, 14.0, 3.5, 0.8], [200.0, 0.226, 71.0, 86.0, 14.0, 3.5, 0.8], [16291.0, 0.226, 71.0, 86.0, 14.0, 3.5, 0.8], [200.0, 0.511, 40.0, 42.5, 8.0, 3.5, 0.8], [16291.0, 0.511, 40.0, 42.5, 8.0, 3.5, 0.8], [200.0, 0.226, 40.0, 42.5, 8.0, 3.5, 0.8], [16291.0, 0.226, 40.0, 42.5, 8.0, 3.5, 0.8], [200.0, 0.511, 71.0, 86.0, 14.0, 20.0, 0.8], [16291.0, 0.511, 71.0, 86.0, 14.0, 20.0, 0.8], [200.0, 0.226, 71.0, 86.0, 14.0, 20.0, 0.8], [16291.0, 0.226, 71.0, 86.0, 14.0, 20.0, 0.8], [200.0, 0.511, 40.0, 42.5, 8.0, 20.0, 0.8], [16291.0, 0.511, 40.0, 42.5, 8.0, 20.0, 0.8], [200.0, 0.226, 40.0, 42.5, 8.0, 20.0, 0.8], [16291.0, 0.226, 40.0, 42.5, 8.0, 20.0, 0.8]], 'Outs': [53167.057371090435, 35.522654138180535, 2893.497792825553, 35.52265413818066, 2893.4977928255407, 847.7483525837548, 69053.80430358626, 848.1989563773722, 69053.34205970993, 88.4104287638274, 7201.471474957208, 88.41042876382755, 7201.47147495744, 307.0764060536007, 25012.908655095467, 307.0764060535994, 25012.908655095685, 157.9956354143594, 12869.534482017816, 157.99563541435919, 12869.53448201795, 3781.9921325991536, 308062.1691608757, 3781.9921325992177, 308062.16916087695, 392.96449510264046, 32008.922948587267, 392.96449510265103, 32008.922948587853, 1359.0427673699069, 110700.82861611446, 1359.0427673698605, 110700.82861611342], 'Iteration': 3}, '1': {'models': [{'BestScore': -0.07055820741242444, 'BestParams': {'C': 0.1, 'gamma': 1, 'kernel': 'linear'}}, {'BestScore': -0.07055820741242444, 'BestParams': {'C': 0.1, 'gamma': 1, 'kernel': 'linear'}}], 'modelsScore': [-0.07055820741242444, -0.07055820741242444], 'PointNumber': 33, 'Experiments': [[8245.5, 0.3685, 55.5, 64.25, 11.0, 11.75, 0.49000000000000005], [200.0, 0.511, 71.0, 86.0, 14.0, 3.5, 0.18], [16291.0, 0.511, 71.0, 86.0, 14.0, 3.5, 0.18], [200.0, 0.226, 71.0, 86.0, 14.0, 3.5, 0.18], [16291.0, 0.226, 71.0, 86.0, 14.0, 3.5, 0.18], [200.0, 0.511, 40.0, 42.5, 8.0, 3.5, 0.18], [16291.0, 0.511, 40.0, 42.5, 8.0, 3.5, 0.18], [200.0, 0.226, 40.0, 42.5, 8.0, 3.5, 0.18], [16291.0, 0.226, 40.0, 42.5, 8.0, 3.5, 0.18], [200.0, 0.511, 71.0, 86.0, 14.0, 20.0, 0.18], [16291.0, 0.511, 71.0, 86.0, 14.0, 20.0, 0.18], [200.0, 0.226, 71.0, 86.0, 14.0, 20.0, 0.18], [16291.0, 0.226, 71.0, 86.0, 14.0, 20.0, 0.18], [200.0, 0.511, 40.0, 42.5, 8.0, 20.0, 0.18], [16291.0, 0.511, 40.0, 42.5, 8.0, 20.0, 0.18], [200.0, 0.226, 40.0, 42.5, 8.0, 20.0, 0.18], [16291.0, 0.226, 40.0, 42.5, 8.0, 20.0, 0.18], [200.0, 0.511, 71.0, 86.0, 14.0, 3.5, 0.8], [16291.0, 0.511, 71.0, 86.0, 14.0, 3.5, 0.8], [200.0, 0.226, 71.0, 86.0, 14.0, 3.5, 0.8], [16291.0, 0.226, 71.0, 86.0, 14.0, 3.5, 0.8], [200.0, 0.511, 40.0, 42.5, 8.0, 3.5, 0.8], [16291.0, 0.511, 40.0, 42.5, 8.0, 3.5, 0.8], [200.0, 0.226, 40.0, 42.5, 8.0, 3.5, 0.8], [16291.0, 0.226, 40.0, 42.5, 8.0, 3.5, 0.8], [200.0, 0.511, 71.0, 86.0, 14.0, 20.0, 0.8], [16291.0, 0.511, 71.0, 86.0, 14.0, 20.0, 0.8], [200.0, 0.226, 71.0, 86.0, 14.0, 20.0, 0.8], [16291.0, 0.226, 71.0, 86.0, 14.0, 20.0, 0.8], [200.0, 0.511, 40.0, 42.5, 8.0, 20.0, 0.8], [16291.0, 0.511, 40.0, 42.5, 8.0, 20.0, 0.8], [200.0, 0.226, 40.0, 42.5, 8.0, 20.0, 0.8], [16291.0, 0.226, 40.0, 42.5, 8.0, 20.0, 0.8]], 'Outs': [53167.057371090435, 35.522654138180535, 2893.497792825553, 35.52265413818066, 2893.4977928255407, 847.7483525837548, 69053.80430358626, 848.1989563773722, 69053.34205970993, 88.4104287638274, 7201.471474957208, 88.41042876382755, 7201.47147495744, 307.0764060536007, 25012.908655095467, 307.0764060535994, 25012.908655095685, 157.9956354143594, 12869.534482017816, 157.99563541435919, 12869.53448201795, 3781.9921325991536, 308062.1691608757, 3781.9921325992177, 308062.16916087695, 392.96449510264046, 32008.922948587267, 392.96449510265103, 32008.922948587853, 1359.0427673699069, 110700.82861611446, 1359.0427673698605, 110700.82861611342], 'Iteration': 1}}\n"
     ]
    }
   ],
   "source": [
    "LogRegister(\"mganet\",[modeloSVM ,modeloSVM ], mats['Experimments'],mats['Expout'].reshape(33),1)"
   ]
  },
  {
   "cell_type": "code",
   "execution_count": null,
   "metadata": {},
   "outputs": [],
   "source": []
  },
  {
   "cell_type": "code",
   "execution_count": null,
   "metadata": {},
   "outputs": [],
   "source": []
  }
 ],
 "metadata": {
  "kernelspec": {
   "display_name": "Python 3",
   "language": "python",
   "name": "python3"
  },
  "language_info": {
   "codemirror_mode": {
    "name": "ipython",
    "version": 3
   },
   "file_extension": ".py",
   "mimetype": "text/x-python",
   "name": "python",
   "nbconvert_exporter": "python",
   "pygments_lexer": "ipython3",
   "version": "3.7.4"
  }
 },
 "nbformat": 4,
 "nbformat_minor": 2
}
